{
 "cells": [
  {
   "cell_type": "code",
   "execution_count": 2,
   "metadata": {},
   "outputs": [
    {
     "name": "stdin",
     "output_type": "stream",
     "text": [
      "Enter the message you want to encrypt:  I love you\n",
      "Please, enter a key(number from 1-25):  5\n"
     ]
    },
    {
     "name": "stdout",
     "output_type": "stream",
     "text": [
      "Your cipher is:  n qtaj dtz\n"
     ]
    }
   ],
   "source": [
    "alpha = \"abcdefghijklmnopqrstuvwxyzabcdefghijklmnopqrstuvwxyz\"\n",
    "#Copy past alphabet in order to encrypt letter Z for example\n",
    "encrypt = input(\"Enter the message you want to encrypt: \")\n",
    "key = int(input(\"Please, enter a key(number from 1-25): \"))\n",
    "encrypt = encrypt.lower() #all letter convert into lower case\n",
    "encrypted = \"\"\n",
    "for letter in encrypt:\n",
    "    position = alpha.find(letter) #Function that referes to the index (alphabeth) and find the letter we need\n",
    "    newPosition = position + key #we add key to the index\n",
    "    if letter in alpha:\n",
    "        encrypted = encrypted + alpha[newPosition]\n",
    "    else:\n",
    "        encrypted = encrypted + letter\n",
    "print(\"Your cipher is: \", encrypted)"
   ]
  },
  {
   "cell_type": "code",
   "execution_count": null,
   "metadata": {},
   "outputs": [],
   "source": []
  }
 ],
 "metadata": {
  "kernelspec": {
   "display_name": "Python 3",
   "language": "python",
   "name": "python3"
  },
  "language_info": {
   "codemirror_mode": {
    "name": "ipython",
    "version": 3
   },
   "file_extension": ".py",
   "mimetype": "text/x-python",
   "name": "python",
   "nbconvert_exporter": "python",
   "pygments_lexer": "ipython3",
   "version": "3.8.5"
  }
 },
 "nbformat": 4,
 "nbformat_minor": 4
}
